{
 "cells": [
  {
   "cell_type": "code",
   "execution_count": 1,
   "metadata": {},
   "outputs": [],
   "source": [
    "mv = 0.001\n",
    "ms = 0.001\n",
    "mmo = 0.001\n",
    "na = 1E-9\n",
    "megohm = 1E6\n",
    "\n",
    "# typical neuron parameters\n",
    "threshold = -50 * mv     # spike threshold [mV]\n",
    "reset_voltage = -65 * mv  # reset potential [mV]\n",
    "tau_m = 8. * ms     # membrane time constant [ms]\n",
    "membrane_resistance = 10 * megohm    # membrane resistance [MOhm]\n",
    "initial_potential = -75 * mv   # initial potential [mV]\n",
    "resting_potential = -70 * mv      # resting potential [mV]\n",
    "refactory_period = 3. * ms      # refractory time (ms)\n",
    "I = 1.0 * na # base injection current [mA]\n",
    "\n",
    "# simulation parameters\n",
    "dt = 0.1 * ms  # Simulation time step [ms]\n",
    "R_DUR = int(refactory_period / dt)"
   ]
  },
  {
   "cell_type": "code",
   "execution_count": 2,
   "metadata": {},
   "outputs": [],
   "source": [
    "import jax.numpy as np\n",
    "\n",
    "\n",
    "def initial_state(count):\n",
    "    potentials = np.full(count, initial_potential)\n",
    "    ts = np.zeros(count)\n",
    "    injected_currents = na * (np.array(range(count)) + 1)\n",
    "    return injected_currents, potentials, ts\n",
    "\n",
    "\n",
    "def step(v, tr, injected_current):\n",
    "    rv = np.full_like(v, reset_voltage)\n",
    "    dv = ((resting_potential - v) + (injected_current * membrane_resistance)) * (dt / tau_m)\n",
    "    spikes = v > threshold\n",
    "    next_v = np.where(spikes, rv, v + dv)\n",
    "    refactory = tr > 0\n",
    "    next_v = np.where(refactory, rv, next_v)\n",
    "    next_tr = np.where(refactory, tr - 1, tr)\n",
    "    next_tr = np.where(spikes, R_DUR, next_tr)\n",
    "    return next_v, next_tr, spikes"
   ]
  },
  {
   "cell_type": "code",
   "execution_count": 3,
   "metadata": {
    "scrolled": true
   },
   "outputs": [
    {
     "name": "stdout",
     "output_type": "stream",
     "text": [
      "14.7 ms ± 1.75 ms per loop (mean ± std. dev. of 100 runs, 100 loops each)\n"
     ]
    }
   ],
   "source": [
    "COUNT = 1000000\n",
    "\n",
    "injected_currents, potentials, ts = initial_state(COUNT)\n",
    "\n",
    "%timeit -n 100 -r 100 step(potentials, ts, injected_currents)"
   ]
  },
  {
   "cell_type": "code",
   "execution_count": 4,
   "metadata": {},
   "outputs": [],
   "source": [
    "from jax import jit\n",
    "\n",
    "jstep = jit(step)"
   ]
  },
  {
   "cell_type": "code",
   "execution_count": 5,
   "metadata": {},
   "outputs": [
    {
     "name": "stdout",
     "output_type": "stream",
     "text": [
      "1.2 ms ± 244 µs per loop (mean ± std. dev. of 100 runs, 100 loops each)\n"
     ]
    }
   ],
   "source": [
    "%timeit -n 100 -r 100 jstep(potentials, ts, injected_currents)"
   ]
  },
  {
   "cell_type": "code",
   "execution_count": null,
   "metadata": {},
   "outputs": [],
   "source": []
  }
 ],
 "metadata": {
  "kernelspec": {
   "display_name": "Python 3 (ipykernel)",
   "language": "python",
   "name": "python3"
  },
  "language_info": {
   "codemirror_mode": {
    "name": "ipython",
    "version": 3
   },
   "file_extension": ".py",
   "mimetype": "text/x-python",
   "name": "python",
   "nbconvert_exporter": "python",
   "pygments_lexer": "ipython3",
   "version": "3.9.9"
  }
 },
 "nbformat": 4,
 "nbformat_minor": 1
}
